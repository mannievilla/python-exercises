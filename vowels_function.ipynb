{
 "cells": [
  {
   "cell_type": "code",
   "execution_count": 12,
   "id": "2c3cf3b8",
   "metadata": {},
   "outputs": [],
   "source": [
    "def is_vowel(vowelstring):\n",
    "    '''\n",
    "    This function takes in a string and lowercases it\n",
    "    Return true if input is a vowel\n",
    "    And return False if input is consonant\n",
    "    '''\n",
    "    #lowercase the input string\n",
    "    vowelstring = vowelstring.lower()\n",
    "    \n",
    "    #if the input is a vowel\n",
    "    if vowelstring == ('a' or 'e' or 'i' or 'o' or 'u'):\n",
    "        return True\n",
    "    else:\n",
    "        return False"
   ]
  }
 ],
 "metadata": {
  "kernelspec": {
   "display_name": "Python 3 (ipykernel)",
   "language": "python",
   "name": "python3"
  },
  "language_info": {
   "codemirror_mode": {
    "name": "ipython",
    "version": 3
   },
   "file_extension": ".py",
   "mimetype": "text/x-python",
   "name": "python",
   "nbconvert_exporter": "python",
   "pygments_lexer": "ipython3",
   "version": "3.10.9"
  }
 },
 "nbformat": 4,
 "nbformat_minor": 5
}
