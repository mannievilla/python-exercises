{
 "cells": [
  {
   "cell_type": "code",
   "execution_count": 1,
   "id": "0d1493f2",
   "metadata": {},
   "outputs": [
    {
     "data": {
      "text/plain": [
       "int"
      ]
     },
     "execution_count": 1,
     "metadata": {},
     "output_type": "execute_result"
    }
   ],
   "source": [
    "type(123)"
   ]
  },
  {
   "cell_type": "code",
   "execution_count": 2,
   "id": "0b50d316",
   "metadata": {},
   "outputs": [
    {
     "data": {
      "text/plain": [
       "str"
      ]
     },
     "execution_count": 2,
     "metadata": {},
     "output_type": "execute_result"
    }
   ],
   "source": [
    "type('hello')"
   ]
  },
  {
   "cell_type": "code",
   "execution_count": 3,
   "id": "404400fe",
   "metadata": {},
   "outputs": [
    {
     "data": {
      "text/plain": [
       "bool"
      ]
     },
     "execution_count": 3,
     "metadata": {},
     "output_type": "execute_result"
    }
   ],
   "source": [
    "type(True)"
   ]
  },
  {
   "cell_type": "code",
   "execution_count": 4,
   "id": "c81e9864",
   "metadata": {},
   "outputs": [
    {
     "name": "stdout",
     "output_type": "stream",
     "text": [
      "1\n",
      "2\n",
      "8\n"
     ]
    }
   ],
   "source": [
    "x = 1\n",
    "print(x)\n",
    "x = x + 1\n",
    "print(x)\n",
    "x = x * 3 + x\n",
    "print(x)"
   ]
  },
  {
   "cell_type": "code",
   "execution_count": 5,
   "id": "b13a2455",
   "metadata": {},
   "outputs": [
    {
     "name": "stdout",
     "output_type": "stream",
     "text": [
      "True\n"
     ]
    }
   ],
   "source": [
    "is_first_of_the_month = True\n",
    "report_has_been_sent = False\n",
    "\n",
    "should_process_report = is_first_of_the_month and not report_has_been_sent\n",
    "\n",
    "print(should_process_report)"
   ]
  },
  {
   "cell_type": "code",
   "execution_count": 6,
   "id": "1bfd0cdb",
   "metadata": {},
   "outputs": [
    {
     "name": "stdout",
     "output_type": "stream",
     "text": [
      "False\n"
     ]
    }
   ],
   "source": [
    "is_first_of_the_month = False\n",
    "report_has_been_sent = True\n",
    "\n",
    "should_process_report = is_first_of_the_month and not report_has_been_sent\n",
    "\n",
    "print(should_process_report)"
   ]
  },
  {
   "cell_type": "code",
   "execution_count": 7,
   "id": "d1cf0da1",
   "metadata": {},
   "outputs": [
    {
     "data": {
      "text/plain": [
       "0.30000000000000004"
      ]
     },
     "execution_count": 7,
     "metadata": {},
     "output_type": "execute_result"
    }
   ],
   "source": [
    "0.1 + 0.2"
   ]
  },
  {
   "cell_type": "code",
   "execution_count": 8,
   "id": "4903c848",
   "metadata": {},
   "outputs": [
    {
     "data": {
      "text/plain": [
       "bool"
      ]
     },
     "execution_count": 8,
     "metadata": {},
     "output_type": "execute_result"
    }
   ],
   "source": [
    "type(True)"
   ]
  },
  {
   "cell_type": "code",
   "execution_count": 10,
   "id": "87f1d80a",
   "metadata": {},
   "outputs": [
    {
     "ename": "SyntaxError",
     "evalue": "cannot assign to True (2452926307.py, line 1)",
     "output_type": "error",
     "traceback": [
      "\u001b[0;36m  Cell \u001b[0;32mIn[10], line 1\u001b[0;36m\u001b[0m\n\u001b[0;31m    True = True\u001b[0m\n\u001b[0m    ^\u001b[0m\n\u001b[0;31mSyntaxError\u001b[0m\u001b[0;31m:\u001b[0m cannot assign to True\n"
     ]
    }
   ],
   "source": [
    "True == True # if one equal sign then it is a variable"
   ]
  },
  {
   "cell_type": "code",
   "execution_count": 12,
   "id": "82dc1961",
   "metadata": {},
   "outputs": [
    {
     "data": {
      "text/plain": [
       "False"
      ]
     },
     "execution_count": 12,
     "metadata": {},
     "output_type": "execute_result"
    }
   ],
   "source": [
    "True == False"
   ]
  },
  {
   "cell_type": "code",
   "execution_count": 11,
   "id": "8673f4aa",
   "metadata": {},
   "outputs": [
    {
     "data": {
      "text/plain": [
       "False"
      ]
     },
     "execution_count": 11,
     "metadata": {},
     "output_type": "execute_result"
    }
   ],
   "source": [
    "not True"
   ]
  },
  {
   "cell_type": "code",
   "execution_count": 13,
   "id": "e7bceeaf",
   "metadata": {},
   "outputs": [
    {
     "data": {
      "text/plain": [
       "True"
      ]
     },
     "execution_count": 13,
     "metadata": {},
     "output_type": "execute_result"
    }
   ],
   "source": [
    "not False"
   ]
  },
  {
   "cell_type": "code",
   "execution_count": 14,
   "id": "c6759bcb",
   "metadata": {},
   "outputs": [
    {
     "data": {
      "text/plain": [
       "True"
      ]
     },
     "execution_count": 14,
     "metadata": {},
     "output_type": "execute_result"
    }
   ],
   "source": [
    "True != False"
   ]
  },
  {
   "cell_type": "code",
   "execution_count": 15,
   "id": "29a145b7",
   "metadata": {},
   "outputs": [
    {
     "data": {
      "text/plain": [
       "1"
      ]
     },
     "execution_count": 15,
     "metadata": {},
     "output_type": "execute_result"
    }
   ],
   "source": [
    "1"
   ]
  },
  {
   "cell_type": "code",
   "execution_count": 16,
   "id": "63300141",
   "metadata": {},
   "outputs": [
    {
     "data": {
      "text/plain": [
       "int"
      ]
     },
     "execution_count": 16,
     "metadata": {},
     "output_type": "execute_result"
    }
   ],
   "source": [
    "type(123)"
   ]
  },
  {
   "cell_type": "code",
   "execution_count": 17,
   "id": "b43f3924",
   "metadata": {},
   "outputs": [
    {
     "data": {
      "text/plain": [
       "1.0"
      ]
     },
     "execution_count": 17,
     "metadata": {},
     "output_type": "execute_result"
    }
   ],
   "source": [
    "1.0"
   ]
  },
  {
   "cell_type": "code",
   "execution_count": 18,
   "id": "c1060564",
   "metadata": {},
   "outputs": [
    {
     "data": {
      "text/plain": [
       "float"
      ]
     },
     "execution_count": 18,
     "metadata": {},
     "output_type": "execute_result"
    }
   ],
   "source": [
    "type(1.0)"
   ]
  },
  {
   "cell_type": "code",
   "execution_count": 19,
   "id": "00dae5b2",
   "metadata": {},
   "outputs": [
    {
     "data": {
      "text/plain": [
       "14"
      ]
     },
     "execution_count": 19,
     "metadata": {},
     "output_type": "execute_result"
    }
   ],
   "source": [
    "4 + 10"
   ]
  },
  {
   "cell_type": "code",
   "execution_count": 20,
   "id": "e98fd6e9",
   "metadata": {},
   "outputs": [
    {
     "data": {
      "text/plain": [
       "1.0"
      ]
     },
     "execution_count": 20,
     "metadata": {},
     "output_type": "execute_result"
    }
   ],
   "source": [
    "0.4 + 0.6"
   ]
  },
  {
   "cell_type": "markdown",
   "id": "bace9926",
   "metadata": {},
   "source": [
    "str"
   ]
  },
  {
   "cell_type": "code",
   "execution_count": 21,
   "id": "85625a93",
   "metadata": {},
   "outputs": [
    {
     "data": {
      "text/plain": [
       "str"
      ]
     },
     "execution_count": 21,
     "metadata": {},
     "output_type": "execute_result"
    }
   ],
   "source": [
    "type('hello')"
   ]
  },
  {
   "cell_type": "code",
   "execution_count": 22,
   "id": "beaf97d7",
   "metadata": {},
   "outputs": [
    {
     "data": {
      "text/plain": [
       "'Hello World'"
      ]
     },
     "execution_count": 22,
     "metadata": {},
     "output_type": "execute_result"
    }
   ],
   "source": [
    "'Hello World'"
   ]
  },
  {
   "cell_type": "code",
   "execution_count": 23,
   "id": "9a54cba9",
   "metadata": {},
   "outputs": [
    {
     "data": {
      "text/plain": [
       "'\\nThis is for a \\nmulti line\\nstring\\n'"
      ]
     },
     "execution_count": 23,
     "metadata": {},
     "output_type": "execute_result"
    }
   ],
   "source": [
    "\"\"\"\n",
    "This is for a \n",
    "multi line\n",
    "string\n",
    "\"\"\""
   ]
  },
  {
   "cell_type": "code",
   "execution_count": 25,
   "id": "dacf2f5d",
   "metadata": {},
   "outputs": [
    {
     "name": "stdout",
     "output_type": "stream",
     "text": [
      "Hello\n",
      " World\n"
     ]
    }
   ],
   "source": [
    "print('Hello\\n World')"
   ]
  },
  {
   "cell_type": "code",
   "execution_count": 26,
   "id": "67286b48",
   "metadata": {},
   "outputs": [
    {
     "data": {
      "text/plain": [
       "False"
      ]
     },
     "execution_count": 26,
     "metadata": {},
     "output_type": "execute_result"
    }
   ],
   "source": [
    "'hello' == 'world'"
   ]
  },
  {
   "cell_type": "code",
   "execution_count": 27,
   "id": "f29d06f1",
   "metadata": {},
   "outputs": [
    {
     "data": {
      "text/plain": [
       "True"
      ]
     },
     "execution_count": 27,
     "metadata": {},
     "output_type": "execute_result"
    }
   ],
   "source": [
    "'hello' == 'hello'"
   ]
  },
  {
   "cell_type": "code",
   "execution_count": 28,
   "id": "b36de87b",
   "metadata": {},
   "outputs": [
    {
     "data": {
      "text/plain": [
       "False"
      ]
     },
     "execution_count": 28,
     "metadata": {},
     "output_type": "execute_result"
    }
   ],
   "source": [
    "# space matters\n",
    "'hello ' == 'hello'"
   ]
  },
  {
   "cell_type": "code",
   "execution_count": 29,
   "id": "ecca2f7c",
   "metadata": {},
   "outputs": [
    {
     "data": {
      "text/plain": [
       "'abcdef'"
      ]
     },
     "execution_count": 29,
     "metadata": {},
     "output_type": "execute_result"
    }
   ],
   "source": [
    "'abc' + 'def'"
   ]
  },
  {
   "cell_type": "code",
   "execution_count": 31,
   "id": "ed4ac5c8",
   "metadata": {},
   "outputs": [
    {
     "name": "stdout",
     "output_type": "stream",
     "text": [
      "abc\n",
      "abc\n",
      "abc\n",
      "abc\n",
      "abc\n",
      "abc\n",
      "abc\n",
      "abc\n",
      "abc\n",
      "abc\n",
      "\n"
     ]
    }
   ],
   "source": [
    "print('abc\\n' * 10) # \\n will return"
   ]
  },
  {
   "cell_type": "code",
   "execution_count": 32,
   "id": "c45e3765",
   "metadata": {},
   "outputs": [
    {
     "ename": "TypeError",
     "evalue": "can only concatenate str (not \"int\") to str",
     "output_type": "error",
     "traceback": [
      "\u001b[0;31m---------------------------------------------------------------------------\u001b[0m",
      "\u001b[0;31mTypeError\u001b[0m                                 Traceback (most recent call last)",
      "Cell \u001b[0;32mIn[32], line 1\u001b[0m\n\u001b[0;32m----> 1\u001b[0m \u001b[38;5;124;43m'\u001b[39;49m\u001b[38;5;124;43m2\u001b[39;49m\u001b[38;5;124;43m'\u001b[39;49m\u001b[43m \u001b[49m\u001b[38;5;241;43m+\u001b[39;49m\u001b[43m \u001b[49m\u001b[38;5;241;43m1\u001b[39;49m\n",
      "\u001b[0;31mTypeError\u001b[0m: can only concatenate str (not \"int\") to str"
     ]
    }
   ],
   "source": [
    "'2' + 1"
   ]
  },
  {
   "cell_type": "code",
   "execution_count": 33,
   "id": "80502363",
   "metadata": {},
   "outputs": [
    {
     "data": {
      "text/plain": [
       "3"
      ]
     },
     "execution_count": 33,
     "metadata": {},
     "output_type": "execute_result"
    }
   ],
   "source": [
    "int('2') + 1"
   ]
  },
  {
   "cell_type": "code",
   "execution_count": 34,
   "id": "ebafb3a9",
   "metadata": {},
   "outputs": [
    {
     "ename": "ValueError",
     "evalue": "invalid literal for int() with base 10: 's'",
     "output_type": "error",
     "traceback": [
      "\u001b[0;31m---------------------------------------------------------------------------\u001b[0m",
      "\u001b[0;31mValueError\u001b[0m                                Traceback (most recent call last)",
      "Cell \u001b[0;32mIn[34], line 1\u001b[0m\n\u001b[0;32m----> 1\u001b[0m \u001b[38;5;28;43mint\u001b[39;49m\u001b[43m(\u001b[49m\u001b[38;5;124;43m'\u001b[39;49m\u001b[38;5;124;43ms\u001b[39;49m\u001b[38;5;124;43m'\u001b[39;49m\u001b[43m)\u001b[49m\n",
      "\u001b[0;31mValueError\u001b[0m: invalid literal for int() with base 10: 's'"
     ]
    }
   ],
   "source": [
    "int('s')"
   ]
  },
  {
   "cell_type": "code",
   "execution_count": 35,
   "id": "7338de37",
   "metadata": {},
   "outputs": [
    {
     "data": {
      "text/plain": [
       "'21'"
      ]
     },
     "execution_count": 35,
     "metadata": {},
     "output_type": "execute_result"
    }
   ],
   "source": [
    "'2' + str(1) # YOU CAN CHANGE THE DATA TYPE"
   ]
  },
  {
   "cell_type": "code",
   "execution_count": 36,
   "id": "67b2370c",
   "metadata": {},
   "outputs": [
    {
     "name": "stdout",
     "output_type": "stream",
     "text": [
      "Write something: sup\n"
     ]
    }
   ],
   "source": [
    "my_repsonse = input('Write something: ')"
   ]
  },
  {
   "cell_type": "code",
   "execution_count": 37,
   "id": "550e4d26",
   "metadata": {},
   "outputs": [],
   "source": [
    "name = 'John'\n",
    "name2 = 'Amy'\n",
    "name3 = 'Mannie'"
   ]
  },
  {
   "cell_type": "code",
   "execution_count": 38,
   "id": "2a90897e",
   "metadata": {},
   "outputs": [
    {
     "data": {
      "text/plain": [
       "'Hello John, Amy, Mannie'"
      ]
     },
     "execution_count": 38,
     "metadata": {},
     "output_type": "execute_result"
    }
   ],
   "source": [
    "f\"Hello {name}, {name2}, {name3}\""
   ]
  },
  {
   "cell_type": "code",
   "execution_count": 39,
   "id": "c126b28c",
   "metadata": {
    "scrolled": true
   },
   "outputs": [
    {
     "data": {
      "text/plain": [
       "'hello'"
      ]
     },
     "execution_count": 39,
     "metadata": {},
     "output_type": "execute_result"
    }
   ],
   "source": [
    "'HELLO'.lower()"
   ]
  },
  {
   "cell_type": "code",
   "execution_count": 40,
   "id": "e82c8fce",
   "metadata": {},
   "outputs": [
    {
     "data": {
      "text/plain": [
       "'HELLO'"
      ]
     },
     "execution_count": 40,
     "metadata": {},
     "output_type": "execute_result"
    }
   ],
   "source": [
    "'hello'.upper()"
   ]
  },
  {
   "cell_type": "code",
   "execution_count": 41,
   "id": "7ad97ccb",
   "metadata": {},
   "outputs": [
    {
     "data": {
      "text/plain": [
       "'HELLO'"
      ]
     },
     "execution_count": 41,
     "metadata": {},
     "output_type": "execute_result"
    }
   ],
   "source": [
    "'HELLO'.lower().upper()"
   ]
  },
  {
   "cell_type": "code",
   "execution_count": 42,
   "id": "7ef2dde1",
   "metadata": {},
   "outputs": [
    {
     "data": {
      "text/plain": [
       "['HElllo']"
      ]
     },
     "execution_count": 42,
     "metadata": {},
     "output_type": "execute_result"
    }
   ],
   "source": [
    "'    HElllo     '.split()"
   ]
  },
  {
   "cell_type": "code",
   "execution_count": 43,
   "id": "32ad33a4",
   "metadata": {},
   "outputs": [
    {
     "data": {
      "text/plain": [
       "False"
      ]
     },
     "execution_count": 43,
     "metadata": {},
     "output_type": "execute_result"
    }
   ],
   "source": [
    "'s'.isdigit()"
   ]
  },
  {
   "cell_type": "code",
   "execution_count": 44,
   "id": "9dbfcb13",
   "metadata": {},
   "outputs": [
    {
     "data": {
      "text/plain": [
       "'Hello Quintela'"
      ]
     },
     "execution_count": 44,
     "metadata": {},
     "output_type": "execute_result"
    }
   ],
   "source": [
    "' '.join(['Hello', 'Quintela'])"
   ]
  },
  {
   "cell_type": "markdown",
   "id": "f8bbe71a",
   "metadata": {},
   "source": [
    "LISTS"
   ]
  },
  {
   "cell_type": "code",
   "execution_count": 45,
   "id": "5ece55f2",
   "metadata": {},
   "outputs": [],
   "source": [
    "number_list = [1, 2, 3]"
   ]
  },
  {
   "cell_type": "code",
   "execution_count": 46,
   "id": "b104951e",
   "metadata": {},
   "outputs": [
    {
     "data": {
      "text/plain": [
       "2"
      ]
     },
     "execution_count": 46,
     "metadata": {},
     "output_type": "execute_result"
    }
   ],
   "source": [
    "number_list[1]"
   ]
  },
  {
   "cell_type": "code",
   "execution_count": 47,
   "id": "41c1772e",
   "metadata": {},
   "outputs": [
    {
     "data": {
      "text/plain": [
       "[1, 2]"
      ]
     },
     "execution_count": 47,
     "metadata": {},
     "output_type": "execute_result"
    }
   ],
   "source": [
    "number_list[:2]"
   ]
  },
  {
   "cell_type": "code",
   "execution_count": 48,
   "id": "e24d6b28",
   "metadata": {},
   "outputs": [
    {
     "data": {
      "text/plain": [
       "[2]"
      ]
     },
     "execution_count": 48,
     "metadata": {},
     "output_type": "execute_result"
    }
   ],
   "source": [
    "number_list[1:2]"
   ]
  },
  {
   "cell_type": "code",
   "execution_count": 49,
   "id": "e28a8a6d",
   "metadata": {},
   "outputs": [
    {
     "data": {
      "text/plain": [
       "[2, 3]"
      ]
     },
     "execution_count": 49,
     "metadata": {},
     "output_type": "execute_result"
    }
   ],
   "source": [
    "number_list[1:]"
   ]
  },
  {
   "cell_type": "code",
   "execution_count": 52,
   "id": "62ed3099",
   "metadata": {},
   "outputs": [],
   "source": [
    "my_list_of_list_of_numbers = [[1, 2, 3], [1, 2, 3]]"
   ]
  },
  {
   "cell_type": "code",
   "execution_count": 53,
   "id": "d5e238be",
   "metadata": {},
   "outputs": [
    {
     "data": {
      "text/plain": [
       "3"
      ]
     },
     "execution_count": 53,
     "metadata": {},
     "output_type": "execute_result"
    }
   ],
   "source": [
    "my_list_of_list_of_numbers[1][2]"
   ]
  },
  {
   "cell_type": "code",
   "execution_count": 56,
   "id": "984e78e5",
   "metadata": {},
   "outputs": [],
   "source": [
    "list_of_numbers = [n for n in range(10)]"
   ]
  },
  {
   "cell_type": "code",
   "execution_count": null,
   "id": "f29d7deb",
   "metadata": {},
   "outputs": [],
   "source": [
    "list_of_numbers "
   ]
  },
  {
   "cell_type": "markdown",
   "id": "e07696bf",
   "metadata": {},
   "source": [
    "## Conditionals"
   ]
  },
  {
   "cell_type": "code",
   "execution_count": null,
   "id": "2fc61d78",
   "metadata": {},
   "outputs": [],
   "source": []
  },
  {
   "cell_type": "code",
   "execution_count": null,
   "id": "e02ceed3",
   "metadata": {},
   "outputs": [],
   "source": [
    "number = 1\n",
    "\n",
    "while number <= 4:\n",
    "    print(number)\n",
    "    number = number + 1"
   ]
  },
  {
   "cell_type": "code",
   "execution_count": null,
   "id": "d68367d3",
   "metadata": {},
   "outputs": [],
   "source": []
  },
  {
   "cell_type": "code",
   "execution_count": null,
   "id": "7fd9ef1f",
   "metadata": {},
   "outputs": [],
   "source": []
  },
  {
   "cell_type": "code",
   "execution_count": null,
   "id": "74a0400a",
   "metadata": {},
   "outputs": [],
   "source": []
  },
  {
   "cell_type": "code",
   "execution_count": null,
   "id": "8162371d",
   "metadata": {},
   "outputs": [],
   "source": []
  },
  {
   "cell_type": "code",
   "execution_count": null,
   "id": "57b8aaed",
   "metadata": {},
   "outputs": [],
   "source": []
  },
  {
   "cell_type": "code",
   "execution_count": null,
   "id": "53ceca84",
   "metadata": {},
   "outputs": [],
   "source": []
  },
  {
   "cell_type": "code",
   "execution_count": null,
   "id": "dbd17f32",
   "metadata": {},
   "outputs": [],
   "source": []
  },
  {
   "cell_type": "code",
   "execution_count": null,
   "id": "69967de7",
   "metadata": {},
   "outputs": [],
   "source": []
  },
  {
   "cell_type": "code",
   "execution_count": null,
   "id": "9d025dce",
   "metadata": {},
   "outputs": [],
   "source": []
  }
 ],
 "metadata": {
  "kernelspec": {
   "display_name": "Python 3 (ipykernel)",
   "language": "python",
   "name": "python3"
  },
  "language_info": {
   "codemirror_mode": {
    "name": "ipython",
    "version": 3
   },
   "file_extension": ".py",
   "mimetype": "text/x-python",
   "name": "python",
   "nbconvert_exporter": "python",
   "pygments_lexer": "ipython3",
   "version": "3.10.9"
  }
 },
 "nbformat": 4,
 "nbformat_minor": 5
}
