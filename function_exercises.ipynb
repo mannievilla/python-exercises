{
 "cells": [
  {
   "cell_type": "markdown",
   "id": "740ebd6f",
   "metadata": {},
   "source": [
    "## 6. Define a function named apply_discount. It should accept a original price, and a discount percentage, and return the price after the discount is applied."
   ]
  },
  {
   "cell_type": "code",
   "execution_count": 8,
   "id": "ddfeb344",
   "metadata": {},
   "outputs": [],
   "source": [
    "def apply_discounts():\n",
    "    price = float(input('Input total price: $'))\n",
    "    discount = float(input('Discount rate in percent: '))\n",
    "    final_price = (100 - discount) * price * .01\n",
    "    return final_price"
   ]
  },
  {
   "cell_type": "code",
   "execution_count": 10,
   "id": "40303e79",
   "metadata": {},
   "outputs": [
    {
     "name": "stdout",
     "output_type": "stream",
     "text": [
      "Input total price: $96.99\n",
      "Discount rate in percent: 10\n",
      "$87.29 is your new price\n"
     ]
    }
   ],
   "source": [
    "print('$' + \"{0:.2f}\".format(apply_discounts()) + ' is your new price')"
   ]
  },
  {
   "cell_type": "code",
   "execution_count": 7,
   "id": "f437f5c2",
   "metadata": {},
   "outputs": [
    {
     "name": "stdout",
     "output_type": "stream",
     "text": [
      "Input price: 100\n",
      "Discount rate: 40\n"
     ]
    },
    {
     "data": {
      "text/plain": [
       "float"
      ]
     },
     "execution_count": 7,
     "metadata": {},
     "output_type": "execute_result"
    }
   ],
   "source": [
    "type(apply_discounts())"
   ]
  },
  {
   "cell_type": "code",
   "execution_count": null,
   "id": "b2dd3abc",
   "metadata": {},
   "outputs": [],
   "source": []
  }
 ],
 "metadata": {
  "kernelspec": {
   "display_name": "Python 3 (ipykernel)",
   "language": "python",
   "name": "python3"
  },
  "language_info": {
   "codemirror_mode": {
    "name": "ipython",
    "version": 3
   },
   "file_extension": ".py",
   "mimetype": "text/x-python",
   "name": "python",
   "nbconvert_exporter": "python",
   "pygments_lexer": "ipython3",
   "version": "3.10.9"
  }
 },
 "nbformat": 4,
 "nbformat_minor": 5
}
