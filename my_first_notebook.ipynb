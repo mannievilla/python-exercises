{
 "cells": [
  {
   "cell_type": "markdown",
   "id": "88299205",
   "metadata": {},
   "source": [
    "## adding a cell above.."
   ]
  },
  {
   "cell_type": "markdown",
   "id": "33b464ca",
   "metadata": {},
   "source": [
    "click outside of the cells and type a"
   ]
  },
  {
   "cell_type": "markdown",
   "id": "090a9b2f",
   "metadata": {},
   "source": [
    "## changing to markdown for headers and paragraphs"
   ]
  },
  {
   "cell_type": "markdown",
   "id": "ab8caeaf",
   "metadata": {},
   "source": [
    "click outside the cell and type m"
   ]
  },
  {
   "cell_type": "markdown",
   "id": "56c41336",
   "metadata": {},
   "source": [
    "## running a cell "
   ]
  },
  {
   "cell_type": "markdown",
   "id": "df9f7d01",
   "metadata": {},
   "source": [
    "shift + enter"
   ]
  }
 ],
 "metadata": {
  "kernelspec": {
   "display_name": "Python 3 (ipykernel)",
   "language": "python",
   "name": "python3"
  },
  "language_info": {
   "codemirror_mode": {
    "name": "ipython",
    "version": 3
   },
   "file_extension": ".py",
   "mimetype": "text/x-python",
   "name": "python",
   "nbconvert_exporter": "python",
   "pygments_lexer": "ipython3",
   "version": "3.10.9"
  }
 },
 "nbformat": 4,
 "nbformat_minor": 5
}
