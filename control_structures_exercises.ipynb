{
 "cells": [
  {
   "cell_type": "markdown",
   "id": "18b4c826",
   "metadata": {},
   "source": [
    "Prompt the user for a day of the week, print out whether the day is Monday or not"
   ]
  },
  {
   "cell_type": "code",
   "execution_count": 1,
   "id": "6998fe36",
   "metadata": {},
   "outputs": [],
   "source": [
    "from pprint import pprint"
   ]
  },
  {
   "cell_type": "code",
   "execution_count": 1,
   "id": "55e79577",
   "metadata": {},
   "outputs": [],
   "source": [
    "import math"
   ]
  },
  {
   "cell_type": "code",
   "execution_count": 2,
   "id": "ab8cadef",
   "metadata": {},
   "outputs": [
    {
     "name": "stdout",
     "output_type": "stream",
     "text": [
      "Enter day of the week:x\n",
      "Check your spelling and/or add a real day\n"
     ]
    }
   ],
   "source": [
    "input('Enter day of the week:')\n",
    "day = input\n",
    "if day == 'Monday':\n",
    "    print('This is Monday')\n",
    "elif day in ['Sunday', 'Tuesday', 'Wednesday', 'Thursday', 'Friday', 'Staurday']:\n",
    "    print('This is not Monday')\n",
    "else:\n",
    "    print('Check your spelling and/or add a real day')\n"
   ]
  },
  {
   "cell_type": "markdown",
   "id": "28a9de80",
   "metadata": {},
   "source": [
    "Prompt the user for a day of the week, print out whether the day is a weekday or a weekend"
   ]
  },
  {
   "cell_type": "code",
   "execution_count": 3,
   "id": "18c8b2eb",
   "metadata": {},
   "outputs": [
    {
     "name": "stdout",
     "output_type": "stream",
     "text": [
      "Enter day of the week:x\n",
      "Check your spelling and/or add a real day\n"
     ]
    }
   ],
   "source": [
    "input('Enter day of the week:')\n",
    "day = input\n",
    "if day in ['Monday', 'Tuesday', 'Wednesday', 'Thursday', 'Friday']:\n",
    "    print('This is a weekday')\n",
    "elif day in ['Sunday', 'Staurday']:\n",
    "    print('This is a weekend')\n",
    "else:\n",
    "    print('Check your spelling and/or add a real day')"
   ]
  },
  {
   "cell_type": "markdown",
   "id": "2db12627",
   "metadata": {},
   "source": [
    "### Calculate a weekly paycheck, accounting for overtime pay. Create variables and make up values for:\n",
    "\n",
    "The number of hours worked in one week\n",
    "The hourly rate\n",
    "\n",
    "For calculating pay:\n",
    "\n",
    "For working 40 hours or less, each hour is paid at the hourly rate\n",
    "For working more than 40 hours\n",
    "the first 40 hours are paid at the hourly rate\n",
    "each hour after 40 is paid at time and a half (hourly rate * 1.5)"
   ]
  },
  {
   "cell_type": "code",
   "execution_count": 4,
   "id": "c8bf0690",
   "metadata": {},
   "outputs": [
    {
     "name": "stdout",
     "output_type": "stream",
     "text": [
      "Weekly hours:4\n",
      "Hourly Rate:4\n",
      "16\n"
     ]
    }
   ],
   "source": [
    "hours = int(input('Weekly hours:'))\n",
    "# if hours > 40:\n",
    "#     ot_hours = hours - 40\n",
    "# else:\n",
    "#     hours = hours\n",
    "rate = int(input('Hourly Rate:'))\n",
    "if hours <= 40:\n",
    "    pay = hours * rate\n",
    "    print(pay)\n",
    "elif hours > 40:\n",
    "    ot_pay = ((hours - 40) * rate * 1.5) + (40 * rate)\n",
    "    print(ot_pay)"
   ]
  },
  {
   "cell_type": "markdown",
   "id": "bfe83db3",
   "metadata": {},
   "source": [
    "## While"
   ]
  },
  {
   "cell_type": "markdown",
   "id": "baac6cd4",
   "metadata": {},
   "source": [
    "Create an integer variable i with a value of 5. Create a while loop that runs so long as i is less than or equal to 15. Each loop iteration, output the current value of i, then increment i by one."
   ]
  },
  {
   "cell_type": "code",
   "execution_count": 5,
   "id": "36797019",
   "metadata": {},
   "outputs": [
    {
     "name": "stdout",
     "output_type": "stream",
     "text": [
      "5\n",
      "6\n",
      "7\n",
      "8\n",
      "9\n",
      "10\n",
      "11\n",
      "12\n",
      "13\n",
      "14\n",
      "15\n"
     ]
    }
   ],
   "source": [
    "i = 5\n",
    "while i <= 15:\n",
    "    print(i)\n",
    "    i += 1"
   ]
  },
  {
   "cell_type": "markdown",
   "id": "2de361f0",
   "metadata": {},
   "source": [
    "Create a while loop that will count by 2's starting with 0 and ending at 100. Follow each number with a new line."
   ]
  },
  {
   "cell_type": "code",
   "execution_count": 6,
   "id": "6ebbaa0c",
   "metadata": {},
   "outputs": [
    {
     "name": "stdout",
     "output_type": "stream",
     "text": [
      "0\n",
      "2\n",
      "4\n",
      "6\n",
      "8\n",
      "10\n",
      "12\n",
      "14\n",
      "16\n",
      "18\n",
      "20\n",
      "22\n",
      "24\n",
      "26\n",
      "28\n",
      "30\n",
      "32\n",
      "34\n",
      "36\n",
      "38\n",
      "40\n",
      "42\n",
      "44\n",
      "46\n",
      "48\n",
      "50\n",
      "52\n",
      "54\n",
      "56\n",
      "58\n",
      "60\n",
      "62\n",
      "64\n",
      "66\n",
      "68\n",
      "70\n",
      "72\n",
      "74\n",
      "76\n",
      "78\n",
      "80\n",
      "82\n",
      "84\n",
      "86\n",
      "88\n",
      "90\n",
      "92\n",
      "94\n",
      "96\n",
      "98\n",
      "100\n"
     ]
    }
   ],
   "source": [
    "i = 0\n",
    "while i <= 101:\n",
    "    print(i)\n",
    "    i += 2"
   ]
  },
  {
   "cell_type": "markdown",
   "id": "390c5015",
   "metadata": {},
   "source": [
    "Create a while loop that starts at 2, and displays the number squared on each line while the number is less than 1,000,000. Output should equal:"
   ]
  },
  {
   "cell_type": "code",
   "execution_count": 7,
   "id": "cc3bf019",
   "metadata": {},
   "outputs": [
    {
     "name": "stdout",
     "output_type": "stream",
     "text": [
      "2\n",
      "4\n",
      "16\n",
      "256\n",
      "65536\n"
     ]
    }
   ],
   "source": [
    "i = 2\n",
    "while i <= 1000001:\n",
    "    print(i)\n",
    "    i *= i"
   ]
  },
  {
   "cell_type": "markdown",
   "id": "ac9ffc17",
   "metadata": {},
   "source": [
    "Write a while loop that uses print to create the output shown below."
   ]
  },
  {
   "cell_type": "code",
   "execution_count": 8,
   "id": "c9c700c6",
   "metadata": {},
   "outputs": [
    {
     "name": "stdout",
     "output_type": "stream",
     "text": [
      "100\n",
      "95\n",
      "90\n",
      "85\n",
      "80\n",
      "75\n",
      "70\n",
      "65\n",
      "60\n",
      "55\n",
      "50\n",
      "45\n",
      "40\n",
      "35\n",
      "30\n",
      "25\n",
      "20\n",
      "15\n",
      "10\n",
      "5\n"
     ]
    }
   ],
   "source": [
    "i = 100\n",
    "while i > 0:\n",
    "    print(i)\n",
    "    i -= 5"
   ]
  },
  {
   "cell_type": "markdown",
   "id": "f0f40cba",
   "metadata": {},
   "source": [
    "Write some code using a for loop that prompts the user for a number, then shows a multiplication table up through 10 for that number."
   ]
  },
  {
   "cell_type": "code",
   "execution_count": 9,
   "id": "e91b25ed",
   "metadata": {},
   "outputs": [
    {
     "name": "stdout",
     "output_type": "stream",
     "text": [
      "Type a number:4\n",
      "4 x 1 = 4\n",
      "4 x 2 = 8\n",
      "4 x 3 = 12\n",
      "4 x 4 = 16\n",
      "4 x 5 = 20\n",
      "4 x 6 = 24\n",
      "4 x 7 = 28\n",
      "4 x 8 = 32\n",
      "4 x 9 = 36\n",
      "4 x 10 = 40\n"
     ]
    }
   ],
   "source": [
    "num = int(input('Type a number:'))\n",
    "for i in range(1, 11):\n",
    "    print(f'{num} x', i, '=', num * i)"
   ]
  },
  {
   "cell_type": "markdown",
   "id": "6fff7baf",
   "metadata": {},
   "source": [
    "Create a for loop that uses print to create the output shown below."
   ]
  },
  {
   "cell_type": "code",
   "execution_count": 10,
   "id": "6d65d4bb",
   "metadata": {},
   "outputs": [
    {
     "name": "stdout",
     "output_type": "stream",
     "text": [
      "1\n",
      "22\n",
      "333\n",
      "4444\n",
      "55555\n",
      "666666\n",
      "7777777\n",
      "88888888\n",
      "999999999\n"
     ]
    }
   ],
   "source": [
    "for i in range(1,10):\n",
    "    print(i * str(i))"
   ]
  },
  {
   "cell_type": "markdown",
   "id": "d7955484",
   "metadata": {},
   "source": [
    "## break and continue\n",
    "\n",
    "Write a program that prompts the user for a positive integer. Next write a loop that prints out the numbers from the number the user entered down to 1."
   ]
  },
  {
   "cell_type": "code",
   "execution_count": 2,
   "id": "c1cf7434",
   "metadata": {},
   "outputs": [
    {
     "name": "stdout",
     "output_type": "stream",
     "text": [
      "Type a positive integer: 5\n",
      "Thanks for giving me a digit\n",
      "that is not a positive number\n",
      "5\n",
      "4\n",
      "3\n",
      "2\n",
      "1\n"
     ]
    }
   ],
   "source": [
    "while True:\n",
    "    num = input('Type a positive integer: ')\n",
    "    if num.isdigit():\n",
    "        print('Thanks for giving me a digit')\n",
    "        if int(num) > 0:              # runningif statement after the first statement\n",
    "            print('that is a positive number')\n",
    "            break\n",
    "num = int(num)  \n",
    "for i in range(num, 0, -1):\n",
    "    print(i)"
   ]
  },
  {
   "cell_type": "code",
   "execution_count": null,
   "id": "f803543b",
   "metadata": {},
   "outputs": [],
   "source": [
    "num = int(input('Type a positive integer: '))\n",
    "while num > 0:\n",
    "    print(num)\n",
    "    num -= 1"
   ]
  },
  {
   "cell_type": "code",
   "execution_count": null,
   "id": "02536758",
   "metadata": {},
   "outputs": [],
   "source": [
    "# num = input('Type a positive integer: ')\n",
    "# while num.isdigit():\n",
    "#     num = int(num)\n",
    "#     print(num)\n",
    "    "
   ]
  },
  {
   "cell_type": "markdown",
   "id": "c2205fe7",
   "metadata": {},
   "source": [
    "The input function can be used to prompt for input and use that input in your python code. Prompt the user to enter a positive number and write a loop that counts from 0 to that number. (Hints: note that the input function returns a string, so you'll need to convert this to a numeric type.)"
   ]
  },
  {
   "cell_type": "code",
   "execution_count": 9,
   "id": "80d4b3fa",
   "metadata": {},
   "outputs": [
    {
     "name": "stdout",
     "output_type": "stream",
     "text": [
      "Type a positive integer: 5\n",
      "Thanks for giving me a digit\n",
      "That is a positive number\n",
      "0\n",
      "1\n",
      "2\n",
      "3\n",
      "4\n",
      "5\n"
     ]
    }
   ],
   "source": [
    "while True:\n",
    "    num = input('Type a positive integer: ')\n",
    "    if num.isdigit():\n",
    "        print('Thanks for giving me a digit')\n",
    "        if int(num) > 0:              # runningif statement after the first statement\n",
    "            print('That is a positive number')\n",
    "            break\n",
    "num = int(num)  \n",
    "for i in range(0, num + 1):\n",
    "    print(i)\n",
    "    "
   ]
  },
  {
   "cell_type": "markdown",
   "id": "8fedd72d",
   "metadata": {},
   "source": [
    "## my first code..."
   ]
  },
  {
   "cell_type": "code",
   "execution_count": 5,
   "id": "49827636",
   "metadata": {},
   "outputs": [
    {
     "name": "stdout",
     "output_type": "stream",
     "text": [
      "Type a positive integer: 5\n",
      "5\n",
      "4\n",
      "3\n",
      "2\n",
      "1\n"
     ]
    }
   ],
   "source": [
    "num = int(input('Type a positive integer: '))\n",
    "while num > 0:\n",
    "    print(num)\n",
    "    num -= 1\n",
    "    if num == 0:\n",
    "        break"
   ]
  },
  {
   "cell_type": "markdown",
   "id": "0ff2c81e",
   "metadata": {},
   "source": [
    "* Prompt the user for an odd number between 1 and 50. \n",
    "* Use a loop and a break statement to continue prompting the user if they enter invalid input. \n",
    "    (Hint: use the isdigit method on strings to determine this). \n",
    "* Use a loop and the continue statement to output all the odd numbers between 1 and 50, except for the number the user entered."
   ]
  },
  {
   "cell_type": "code",
   "execution_count": 18,
   "id": "e4e10744",
   "metadata": {
    "scrolled": true
   },
   "outputs": [
    {
     "name": "stdout",
     "output_type": "stream",
     "text": [
      "Type a positive integer: 5\n",
      "Thanks for giving me a digit\n",
      "That is a positive number\n"
     ]
    }
   ],
   "source": [
    "while True:\n",
    "    user_input = input('Type a positive integer: ')\n",
    "    if user_input.isdigit():\n",
    "        print('Thanks for giving me a digit')\n",
    "    if int(user_input) > 0:              \n",
    "        print('That is a positive number')\n",
    "        break\n",
    "user_input = int(user_input)\n",
    "for i in range(1, 50):\n",
    "    if user_input %2 == 0:\n",
    "        print(i)"
   ]
  },
  {
   "cell_type": "code",
   "execution_count": 23,
   "id": "bc444190",
   "metadata": {},
   "outputs": [],
   "source": [
    "for i in range(1, 50):\n",
    "    if user_input %2 == 0:\n",
    "        print(i)"
   ]
  },
  {
   "cell_type": "markdown",
   "id": "0d6f58c6",
   "metadata": {},
   "source": []
  },
  {
   "cell_type": "markdown",
   "id": "995d154e",
   "metadata": {},
   "source": [
    "* Prompt the user for an odd number between 1 and 50. \n",
    "* Use a loop and a break statement to continue prompting the user if they enter invalid input. (Hint: use the isdigit method on strings to determine this). \n",
    "* Use a loop and the continue statement to output all the odd numbers between 1 and 50, except for the number the user entered."
   ]
  },
  {
   "cell_type": "code",
   "execution_count": 73,
   "id": "f33bbf13",
   "metadata": {},
   "outputs": [
    {
     "name": "stdout",
     "output_type": "stream",
     "text": [
      "Type an odd number between 1 and 50: 3\n",
      "Thanks for giving me a digit\n",
      "Thank you for typing an odd number.\n",
      "\n",
      "Number to skip is  3 \n",
      "\n",
      "Here is an odd number:  1\n",
      "Yikes! Skipping number:  3\n",
      "Here is an odd number:  5\n",
      "Here is an odd number:  7\n",
      "Here is an odd number:  9\n",
      "Here is an odd number:  11\n",
      "Here is an odd number:  13\n",
      "Here is an odd number:  15\n",
      "Here is an odd number:  17\n",
      "Here is an odd number:  19\n",
      "Here is an odd number:  21\n",
      "Here is an odd number:  23\n",
      "Here is an odd number:  25\n",
      "Here is an odd number:  27\n",
      "Here is an odd number:  29\n",
      "Here is an odd number:  31\n",
      "Here is an odd number:  33\n",
      "Here is an odd number:  35\n",
      "Here is an odd number:  37\n",
      "Here is an odd number:  39\n",
      "Here is an odd number:  41\n",
      "Here is an odd number:  43\n",
      "Here is an odd number:  45\n",
      "Here is an odd number:  47\n",
      "Here is an odd number:  49\n"
     ]
    }
   ],
   "source": [
    "while True:\n",
    "    user_input = input('Type an odd number between 1 and 50: ')\n",
    "    if user_input.isdigit() and int(user_input) in range(1, 51):\n",
    "        print('Thanks for giving me a digit')\n",
    "    else:\n",
    "        print('Hey that\\'s not it, try again.')\n",
    "        continue\n",
    "    if int(user_input) %2 != 0: \n",
    "        print('Thank you for typing an odd number.')\n",
    "        print('\\nNumber to skip is ', num, '\\n')\n",
    "        break\n",
    "    if int(user_input) %2 == 0: \n",
    "        print('... but this is not an odd number')\n",
    "num = int(user_input)\n",
    "\n",
    "for i in range(1, 51):\n",
    "    \n",
    "    if i %2 == 0:\n",
    "        continue\n",
    "    if num == i:\n",
    "        print(f'Yikes! Skipping number: ', num)\n",
    "        continue\n",
    "    if i %2 != 0:\n",
    "        print(f'Here is an odd number: ', i)"
   ]
  },
  {
   "cell_type": "code",
   "execution_count": null,
   "id": "56d7f845",
   "metadata": {},
   "outputs": [],
   "source": [
    "user_input = input('Type an odd number between 1 and 50: ')\n",
    "user_input.isdigit()"
   ]
  },
  {
   "cell_type": "markdown",
   "id": "59bbdc33",
   "metadata": {},
   "source": [
    "## my first code"
   ]
  },
  {
   "cell_type": "code",
   "execution_count": 52,
   "id": "564d5bc3",
   "metadata": {},
   "outputs": [
    {
     "name": "stdout",
     "output_type": "stream",
     "text": [
      "Type an odd number between 1 and 50: 3\n",
      "Here is an odd number:  1\n",
      "Yikes! Skipping number:  3\n",
      "Here is an odd number:  5\n",
      "Here is an odd number:  7\n",
      "Here is an odd number:  9\n",
      "Here is an odd number:  11\n",
      "Here is an odd number:  13\n",
      "Here is an odd number:  15\n",
      "Here is an odd number:  17\n",
      "Here is an odd number:  19\n",
      "Here is an odd number:  21\n",
      "Here is an odd number:  23\n",
      "Here is an odd number:  25\n",
      "Here is an odd number:  27\n",
      "Here is an odd number:  29\n",
      "Here is an odd number:  31\n",
      "Here is an odd number:  33\n",
      "Here is an odd number:  35\n",
      "Here is an odd number:  37\n",
      "Here is an odd number:  39\n",
      "Here is an odd number:  41\n",
      "Here is an odd number:  43\n",
      "Here is an odd number:  45\n",
      "Here is an odd number:  47\n",
      "Here is an odd number:  49\n"
     ]
    }
   ],
   "source": [
    "user_input = int(input('Type an odd number between 1 and 50: '))\n",
    "\n",
    "\n",
    "for i in range(1, 50):\n",
    "    if user_input %2 == 0:\n",
    "        print('Try again')\n",
    "        break\n",
    "    elif i %2 == 0:\n",
    "        continue\n",
    "    elif i == user_input:\n",
    "        print(f'Yikes! Skipping number: ',user_input)\n",
    "    elif user_input %2 != 0:\n",
    "        print(f'Here is an odd number: ', i)\n",
    "        i += 1\n",
    "        continue\n",
    "    \n"
   ]
  },
  {
   "cell_type": "markdown",
   "id": "88bca0a2",
   "metadata": {},
   "source": [
    "One of the most common interview questions for entry-level programmers is the FizzBuzz test. Developed by Imran Ghory, the test is designed to test basic looping and conditional logic skills."
   ]
  },
  {
   "cell_type": "markdown",
   "id": "d8af5517",
   "metadata": {},
   "source": [
    "Write a program that prints the numbers from 1 to 100."
   ]
  },
  {
   "cell_type": "code",
   "execution_count": null,
   "id": "bc761723",
   "metadata": {},
   "outputs": [],
   "source": [
    "for i in range(1, 101):\n",
    "    print(i)"
   ]
  },
  {
   "cell_type": "markdown",
   "id": "c6940169",
   "metadata": {},
   "source": [
    "For multiples of three print \"Fizz\" instead of the number"
   ]
  },
  {
   "cell_type": "code",
   "execution_count": null,
   "id": "14ef9673",
   "metadata": {},
   "outputs": [],
   "source": [
    "for i in range(1, 101):\n",
    "    if i % 3 == 0:\n",
    "        print('Fizz')\n",
    "        continue\n",
    "    else:\n",
    "        print(i)"
   ]
  },
  {
   "cell_type": "markdown",
   "id": "c6d4ea01",
   "metadata": {},
   "source": [
    "For the multiples of five print \"Buzz\".\n"
   ]
  },
  {
   "cell_type": "code",
   "execution_count": null,
   "id": "a99efe4a",
   "metadata": {},
   "outputs": [],
   "source": [
    "for i in range(1, 101):\n",
    "    if i % 3 == 0:\n",
    "        print('Fizz')\n",
    "        continue\n",
    "    elif i % 5 == 0:\n",
    "        print('Buzz')\n",
    "        continue\n",
    "    else:\n",
    "        print(i)\n"
   ]
  },
  {
   "cell_type": "markdown",
   "id": "0c81240e",
   "metadata": {},
   "source": [
    "For numbers which are multiples of both three and five print \"FizzBuzz\"."
   ]
  },
  {
   "cell_type": "code",
   "execution_count": 14,
   "id": "8f6b8c96",
   "metadata": {},
   "outputs": [
    {
     "name": "stdout",
     "output_type": "stream",
     "text": [
      "1\n",
      "2\n",
      "Fizz\n",
      "4\n",
      "Buzz\n",
      "Fizz\n",
      "7\n",
      "8\n",
      "Fizz\n",
      "Buzz\n",
      "11\n",
      "Fizz\n",
      "13\n",
      "14\n",
      "FizzBuzz\n",
      "16\n",
      "17\n",
      "Fizz\n",
      "19\n",
      "Buzz\n",
      "Fizz\n",
      "22\n",
      "23\n",
      "Fizz\n",
      "Buzz\n",
      "26\n",
      "Fizz\n",
      "28\n",
      "29\n",
      "FizzBuzz\n",
      "31\n",
      "32\n",
      "Fizz\n",
      "34\n",
      "Buzz\n",
      "Fizz\n",
      "37\n",
      "38\n",
      "Fizz\n",
      "Buzz\n",
      "41\n",
      "Fizz\n",
      "43\n",
      "44\n",
      "FizzBuzz\n",
      "46\n",
      "47\n",
      "Fizz\n",
      "49\n",
      "Buzz\n",
      "Fizz\n",
      "52\n",
      "53\n",
      "Fizz\n",
      "Buzz\n",
      "56\n",
      "Fizz\n",
      "58\n",
      "59\n",
      "FizzBuzz\n",
      "61\n",
      "62\n",
      "Fizz\n",
      "64\n",
      "Buzz\n",
      "Fizz\n",
      "67\n",
      "68\n",
      "Fizz\n",
      "Buzz\n",
      "71\n",
      "Fizz\n",
      "73\n",
      "74\n",
      "FizzBuzz\n",
      "76\n",
      "77\n",
      "Fizz\n",
      "79\n",
      "Buzz\n",
      "Fizz\n",
      "82\n",
      "83\n",
      "Fizz\n",
      "Buzz\n",
      "86\n",
      "Fizz\n",
      "88\n",
      "89\n",
      "FizzBuzz\n",
      "91\n",
      "92\n",
      "Fizz\n",
      "94\n",
      "Buzz\n",
      "Fizz\n",
      "97\n",
      "98\n",
      "Fizz\n",
      "Buzz\n"
     ]
    }
   ],
   "source": [
    "for i in range(1, 101):\n",
    "    if i % 5 == 0 and i % 3 == 0:\n",
    "        print('FizzBuzz')\n",
    "        continue\n",
    "    elif i % 5 == 0:\n",
    "        print('Buzz')\n",
    "        continue\n",
    "    elif i % 3 == 0:\n",
    "        print('Fizz')\n",
    "    else:\n",
    "        print(i)"
   ]
  },
  {
   "cell_type": "markdown",
   "id": "b10adc82",
   "metadata": {},
   "source": [
    "## Display a table of powers.\n",
    "\n",
    "* Prompt the user to enter an integer\n",
    "* Display a table of squares and cubes from 1 to the value entered\n",
    "* Ask if the user wants to continue\n",
    "* Assume that the user will enter valid data\n",
    "* Only continue if the user agrees to"
   ]
  },
  {
   "cell_type": "code",
   "execution_count": 90,
   "id": "6de5b96d",
   "metadata": {},
   "outputs": [
    {
     "name": "stdout",
     "output_type": "stream",
     "text": [
      "What number would you like to go up to? 6\n",
      "\n",
      "Here is your table!\n",
      "\n",
      "number|squared| cubed\n",
      "------|-------|------\n",
      "     1|      1|     1\n",
      "     2|      4|     8\n",
      "     3|      9|    27\n",
      "     4|     16|    64\n",
      "     5|     25|   125\n",
      "     6|     36|   216\n",
      "Would you like to continue? y/n: n\n"
     ]
    }
   ],
   "source": [
    "while True:   \n",
    "    user_in = int(input('What number would you like to go up to? '))\n",
    "    print('\\nHere is your table!\\n')\n",
    "    print(f\"{'number|' : >6}{'squared|' : >7}{'cubed' : >6}\")\n",
    "    print(f\"{'------|' : <6}{'-------|' : <7}{'------' : <6}\")\n",
    "    for i in range(1, user_in + 1):\n",
    "        n = 1\n",
    "        print(f\"{i : >6}|{i**2 : >7}|{i**3 : >6}\")\n",
    "        continue\n",
    "    user_continue = input('Would you like to continue? y/n: ')\n",
    "    if user_continue == 'n':\n",
    "        break"
   ]
  },
  {
   "cell_type": "code",
   "execution_count": null,
   "id": "20639ef6",
   "metadata": {},
   "outputs": [],
   "source": [
    "What number would you like to go up to? 5"
   ]
  },
  {
   "cell_type": "markdown",
   "id": "b71c67ef",
   "metadata": {},
   "source": [
    "## my first code"
   ]
  },
  {
   "cell_type": "code",
   "execution_count": 76,
   "id": "2632eb00",
   "metadata": {},
   "outputs": [
    {
     "name": "stdout",
     "output_type": "stream",
     "text": [
      "Enter num5\n",
      "number|squared|cubed\n",
      "------|-------|-----\n",
      "     1|      1|    1\n",
      "     2|      4|    8\n",
      "     3|      9|   27\n",
      "     4|     16|   64\n",
      "     5|     25|  125\n"
     ]
    }
   ],
   "source": [
    "\n",
    "user_in = int(input('Enter num'))\n",
    "print(f\"{'number|' : >6}{'squared|' : >7}{'cubed' : >5}\")\n",
    "print(f\"{'------|' : >6}{'-------|' : >7}{'-----' : >5}\")\n",
    "for i in range(1, user_in + 1):\n",
    "    print(f\"{i : >6}|{i**2 : >7}|{i**3 : >5}\")\n",
    "#     print(f'{i}| {i**2}| {i**3}')\n"
   ]
  },
  {
   "cell_type": "markdown",
   "id": "3b7cdbe9",
   "metadata": {},
   "source": [
    "Convert given number grades into letter grades.\n",
    "\n",
    "* Prompt the user for a numerical grade from 0 to 100\n",
    "* Display the corresponding letter grade\n",
    "* Prompt the user to continue\n",
    "* Assume that the user will enter valid integers for the grades\n",
    "* The application should only continue if the user agrees to\n",
    "\n",
    "Grade Ranges:\n",
    "\n",
    "A : 100 - 88\n",
    "B : 87 - 80\n",
    "C : 79 - 67\n",
    "D : 66 - 60\n",
    "F : 59 - 0\n"
   ]
  },
  {
   "cell_type": "code",
   "execution_count": 98,
   "id": "7a5617d0",
   "metadata": {},
   "outputs": [
    {
     "name": "stdout",
     "output_type": "stream",
     "text": [
      "Your grade: 6\n",
      "6 is a F\n"
     ]
    }
   ],
   "source": [
    "grade = int(input('Your grade: '))\n",
    "letter = ['A', 'B', 'C', 'D', 'F']\n",
    "while True:\n",
    "# for letter in ['A', 'B', 'C', 'D', 'F']:\n",
    "    if grade in range(88, 101):\n",
    "        print(f'{grade} is an {letter[0]}')\n",
    "        break\n",
    "    elif grade in range(80, 88):\n",
    "        print(f'Your grade {grade} is a {letter[1]}')\n",
    "        break\n",
    "    elif grade in range(67, 80):\n",
    "        print(f'{grade} is a {letter[2]}')\n",
    "        break\n",
    "    elif grade in range(60, 66):\n",
    "        print(f'{grade} is a {letter[3]}')\n",
    "        break\n",
    "    else:\n",
    "        print(f'{grade} is a {letter[4]}')\n",
    "        break"
   ]
  },
  {
   "cell_type": "code",
   "execution_count": 31,
   "id": "91527cfe",
   "metadata": {},
   "outputs": [],
   "source": [
    "books_read = [ \n",
    "    {\n",
    "        'title': 'The Lion the Witch, and the Wardrobe',\n",
    "        'author': 'C.S. Lewis',\n",
    "        'genre': 'fantasy',\n",
    "    },\n",
    "    {\n",
    "        'title': 'The Hobbit',\n",
    "        'author': 'J.R.R. Tolkien',\n",
    "        'genre': 'fantasy',\n",
    "    },\n",
    "    {\n",
    "        'title': 'The Giver',\n",
    "        'author': 'Lois Lowry',\n",
    "        'genre': 'fiction',\n",
    "    }\n",
    "]"
   ]
  },
  {
   "cell_type": "code",
   "execution_count": 35,
   "id": "466e9e7a",
   "metadata": {},
   "outputs": [
    {
     "name": "stdout",
     "output_type": "stream",
     "text": [
      "[{'author': 'C.S. Lewis',\n",
      "  'genre': 'fantasy',\n",
      "  'title': 'The Lion the Witch, and the Wardrobe'},\n",
      " {'author': 'J.R.R. Tolkien', 'genre': 'fantasy', 'title': 'The Hobbit'},\n",
      " {'author': 'Lois Lowry', 'genre': 'fiction', 'title': 'The Giver'}]\n"
     ]
    }
   ],
   "source": [
    "pprint(books_read)"
   ]
  },
  {
   "cell_type": "code",
   "execution_count": 4,
   "id": "8dedb323",
   "metadata": {},
   "outputs": [
    {
     "name": "stdout",
     "output_type": "stream",
     "text": [
      "[{'title': 'The Lion the Witch, and the Wardrobe', 'author': 'C.S. Lewis', 'genre': 'fantasy'}, {'title': 'The Hobbit', 'author': 'J.R.R. Tolkien', 'genre': 'fantasy'}, {'title': 'The Giver', 'author': 'Lois Lowry', 'genre': 'fiction'}]\n"
     ]
    }
   ],
   "source": [
    "print(books_read)"
   ]
  },
  {
   "cell_type": "code",
   "execution_count": null,
   "id": "a0356c8e",
   "metadata": {},
   "outputs": [],
   "source": []
  }
 ],
 "metadata": {
  "kernelspec": {
   "display_name": "Python 3 (ipykernel)",
   "language": "python",
   "name": "python3"
  },
  "language_info": {
   "codemirror_mode": {
    "name": "ipython",
    "version": 3
   },
   "file_extension": ".py",
   "mimetype": "text/x-python",
   "name": "python",
   "nbconvert_exporter": "python",
   "pygments_lexer": "ipython3",
   "version": "3.10.9"
  }
 },
 "nbformat": 4,
 "nbformat_minor": 5
}
